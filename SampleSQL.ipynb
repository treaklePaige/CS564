{
 "cells": [
  {
   "cell_type": "code",
   "execution_count": null,
   "id": "af4e58f3",
   "metadata": {},
   "outputs": [],
   "source": [
    "%%sql\n",
    "SELECT COUNT(Bidders.BidderID + Sellers.SellerID)\n",
    "FROM Bidders, Sellers;"
   ]
  },
  {
   "cell_type": "code",
   "execution_count": null,
   "id": "28ad89df",
   "metadata": {},
   "outputs": [],
   "source": [
    "%%sql\n",
    "SELECT COUNT(Bidders.BidderID + Sellers.SellerID)\n",
    "FROM Bidders, Sellers\n",
    "WHERE Bidders.Location = \"New York\" AND Sellers.Location = \"New York\";"
   ]
  },
  {
   "cell_type": "code",
   "execution_count": null,
   "id": "7c3d937d",
   "metadata": {},
   "outputs": [],
   "source": [
    "%%sql\n",
    "SELECT COUNT(ItemID)\n",
    "FROM Items\n",
    "WHERE Number_of_Bids = 4;"
   ]
  },
  {
   "cell_type": "code",
   "execution_count": null,
   "id": "d6d2865d",
   "metadata": {},
   "outputs": [],
   "source": [
    "%%sql\n",
    "SELECT ItemID ID, MAX(Currently) Current Price, \n",
    "FROM Items\n",
    "ORDER BY DESC;"
   ]
  },
  {
   "cell_type": "code",
   "execution_count": null,
   "id": "49f9e02e",
   "metadata": {},
   "outputs": [],
   "source": [
    "%%sql\n",
    "SELECT COUNT(SellerID)\n",
    "FROM Seller\n",
    "WHERE (SellerRating > 1000);"
   ]
  },
  {
   "cell_type": "code",
   "execution_count": null,
   "id": "cf9a80ba",
   "metadata": {},
   "outputs": [],
   "source": [
    "%%sql\n",
    "SELECT COUNT(Seller.SellerID SellerAndBidder)\n",
    "FROM Seller, Bidder\n",
    "WHERE (Seller.SellerID = Bidder.BidderID);"
   ]
  },
  {
   "cell_type": "code",
   "execution_count": null,
   "id": "e0708c1b",
   "metadata": {},
   "outputs": [],
   "source": [
    "%%sql\n",
    "SELECT COUNT(Categories.CategoryName)\n",
    "FROM Categories, Items, Bids\n",
    "WHERE (Categories.ItemID = Items.ItemID) AND (Items.ItemID = Bids.ItemID) AND (Bids.Amount > 100);"
   ]
  }
 ],
 "metadata": {
  "kernelspec": {
   "display_name": "Python 3 (ipykernel)",
   "language": "python",
   "name": "python3"
  },
  "language_info": {
   "codemirror_mode": {
    "name": "ipython",
    "version": 3
   },
   "file_extension": ".py",
   "mimetype": "text/x-python",
   "name": "python",
   "nbconvert_exporter": "python",
   "pygments_lexer": "ipython3",
   "version": "3.9.12"
  }
 },
 "nbformat": 4,
 "nbformat_minor": 5
}
